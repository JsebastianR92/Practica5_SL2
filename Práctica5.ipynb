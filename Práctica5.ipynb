{
 "cells": [
  {
   "cell_type": "markdown",
   "metadata": {},
   "source": [
    "### Sebastián Rodríguez\n",
    "### 20003076\n",
    "\n",
    "# Práctica 5 - Forward propagation y análisis de representaciones intermedias"
   ]
  },
  {
   "cell_type": "code",
   "execution_count": 4,
   "metadata": {},
   "outputs": [],
   "source": [
    "import numpy as np\n",
    "import matplotlib.pyplot as plt"
   ]
  },
  {
   "cell_type": "markdown",
   "metadata": {},
   "source": [
    "# Primer Diagrama"
   ]
  },
  {
   "cell_type": "code",
   "execution_count": 6,
   "metadata": {},
   "outputs": [],
   "source": [
    "def sigmoide(X):\n",
    "  return 1/(1+np.exp(-X))\n",
    "def Activacion(z):\n",
    "    return (z >= 0).astype(np.float)\n",
    "Activacion(np.array([1]))\n",
    "def Transf(x, Pesos):\n",
    "    return np.matmul(x, Pesos)"
   ]
  },
  {
   "cell_type": "code",
   "execution_count": 7,
   "metadata": {},
   "outputs": [
    {
     "data": {
      "text/plain": [
       "array([0.88079708, 0.95257413, 0.98201379])"
      ]
     },
     "execution_count": 7,
     "metadata": {},
     "output_type": "execute_result"
    }
   ],
   "source": [
    "sigmoide(np.array([2,3,4]))"
   ]
  },
  {
   "cell_type": "code",
   "execution_count": 12,
   "metadata": {},
   "outputs": [],
   "source": [
    "Peso1 = np.array([[0.9,0.8,0.1],[0.3,0.5,0.6],[0.2,0.4,0.7]])\n",
    "\n",
    "Peso2 = np.array([0.3,0.5,0.9])\n",
    "\n",
    "X = np.array([[1,0,1],[1,2,3],[4,5,6],[6,7,8],])"
   ]
  },
  {
   "cell_type": "code",
   "execution_count": 10,
   "metadata": {},
   "outputs": [],
   "source": [
    "H = np.matmul(X,Peso1)\n",
    "A = sigmoide(H)\n"
   ]
  },
  {
   "cell_type": "code",
   "execution_count": 14,
   "metadata": {},
   "outputs": [
    {
     "data": {
      "text/plain": [
       "array([0.77387413, 0.83403412, 0.84538425, 0.84552612])"
      ]
     },
     "execution_count": 14,
     "metadata": {},
     "output_type": "execute_result"
    }
   ],
   "source": [
    "Aprox_Sal = sigmoide(np.matmul(A,Peso2))\n",
    "Aprox_Sal"
   ]
  },
  {
   "cell_type": "code",
   "execution_count": 15,
   "metadata": {},
   "outputs": [],
   "source": [
    "def g(X):\n",
    "  return sigmoide(np.matmul(X,Peso1))\n",
    "\n",
    "  \n",
    "def f(g):\n",
    "  return sigmoide(np.matmul(g,Peso2))"
   ]
  },
  {
   "cell_type": "code",
   "execution_count": 16,
   "metadata": {},
   "outputs": [
    {
     "data": {
      "text/plain": [
       "array([0.77387413, 0.83403412, 0.84538425, 0.84552612])"
      ]
     },
     "execution_count": 16,
     "metadata": {},
     "output_type": "execute_result"
    }
   ],
   "source": [
    "Aprox_Sal = f(g(X))\n",
    "Aprox_Sal"
   ]
  },
  {
   "cell_type": "markdown",
   "metadata": {},
   "source": [
    "# Segundo Diagrama"
   ]
  },
  {
   "cell_type": "code",
   "execution_count": 22,
   "metadata": {},
   "outputs": [],
   "source": [
    "class RedNeuronal:\n",
    "  def __init__(self):\n",
    "    self.Peso1 = np.array([[0.8,0.2],[0.4,0.9],[0.3,0.5]])\n",
    "    self. Peso2  = np.array([0.3,0.5,0.9])\n",
    "\n",
    "  def For_Prop(self,X):\n",
    "    print(X.shape)\n",
    "    print(self.Peso1.T.shape)\n",
    "    A = sigmoide(np.matmul(X,self.Peso1.T))\n",
    "    print(A)\n",
    "    print(A.shape)\n",
    "    Aprox_Sal = sigmoide(np.matmul(A,self.Peso2)) \n",
    "    print(Aprox_Sal.shape)\n",
    "    return Aprox_Sal"
   ]
  },
  {
   "cell_type": "code",
   "execution_count": 23,
   "metadata": {},
   "outputs": [
    {
     "name": "stdout",
     "output_type": "stream",
     "text": [
      "(4, 2)\n",
      "(2, 3)\n",
      "[[0.73105858 0.78583498 0.68997448]\n",
      " [0.76852478 0.90024951 0.78583498]\n",
      " [0.98522597 0.99776215 0.97587298]\n",
      " [0.99797468 0.99983344 0.9950332 ]]\n",
      "(4, 3)\n",
      "(4,)\n"
     ]
    }
   ],
   "source": [
    "X = np.array([[1,1],[1,2],[4,5],[6,7],])\n",
    "red = RedNeuronal()\n",
    "Aprox_Sal = red.For_Prop(X)\n",
    "#Aprox_Sal"
   ]
  },
  {
   "cell_type": "markdown",
   "metadata": {},
   "source": [
    "# Tercer Diagrama"
   ]
  },
  {
   "cell_type": "code",
   "execution_count": 33,
   "metadata": {},
   "outputs": [],
   "source": [
    "def Heavyside(x):\n",
    "    return (x >= 0).astype(np.float)\n",
    "\n",
    "def Bias(x):\n",
    "    return np.vstack((x, np.ones(x.shape[1])))\n"
   ]
  },
  {
   "cell_type": "code",
   "execution_count": 28,
   "metadata": {},
   "outputs": [],
   "source": [
    "x = np.array([1, 0]).reshape(-1, 1)\n",
    "Peso1 = np.array([[20., 20., -10.], [-20., -20., 30.]])\n",
    "M1M = np.matmul(Peso1, Bias(x))\n",
    "Act1 = Heavyside(M1M)\n",
    "Peso2 = np.array([[20, 20, -30]])\n",
    "M2M = np.matmul(Peso2, Bias(Act1))\n",
    "Act2 = Heavyside(M2M)"
   ]
  },
  {
   "cell_type": "code",
   "execution_count": 29,
   "metadata": {},
   "outputs": [],
   "source": [
    "def F_XOR(x, activation=Heavyside, retHidden=False):\n",
    "\n",
    "    Peso1 = np.array([[20., 20., -10.], [-20., -20., 30.]])\n",
    "    Peso2 = np.array([[20, 20, -30]])\n",
    "    M1M = np.matmul(Peso1, Bias(x))\n",
    "    Act1 = activation(M1M)\n",
    "    M2M = np.matmul(Peso2, Bias(Act1))\n",
    "    y = activation(M2M)    \n",
    "    if retHidden:\n",
    "        return y, Act1\n",
    "    return y"
   ]
  },
  {
   "cell_type": "code",
   "execution_count": 31,
   "metadata": {},
   "outputs": [
    {
     "data": {
      "text/plain": [
       "(array([[0, 0, 1, 1],\n",
       "        [0, 1, 0, 1]]), (2, 4))"
      ]
     },
     "execution_count": 31,
     "metadata": {},
     "output_type": "execute_result"
    }
   ],
   "source": [
    "X = np.array([[0,0], [0,1], [1,0], [1,1]])\n",
    "X = X.T\n",
    "X, X.shape"
   ]
  },
  {
   "cell_type": "code",
   "execution_count": 32,
   "metadata": {},
   "outputs": [
    {
     "data": {
      "text/plain": [
       "array([[4.54391049e-05, 9.99954520e-01, 9.99954520e-01, 4.54391049e-05]])"
      ]
     },
     "execution_count": 32,
     "metadata": {},
     "output_type": "execute_result"
    }
   ],
   "source": [
    "F_XOR(X)\n",
    "F_XOR(X, activation=sigmoide)"
   ]
  },
  {
   "cell_type": "code",
   "execution_count": null,
   "metadata": {},
   "outputs": [],
   "source": []
  }
 ],
 "metadata": {
  "kernelspec": {
   "display_name": "Python 3",
   "language": "python",
   "name": "python3"
  },
  "language_info": {
   "codemirror_mode": {
    "name": "ipython",
    "version": 3
   },
   "file_extension": ".py",
   "mimetype": "text/x-python",
   "name": "python",
   "nbconvert_exporter": "python",
   "pygments_lexer": "ipython3",
   "version": "3.7.4"
  }
 },
 "nbformat": 4,
 "nbformat_minor": 2
}
